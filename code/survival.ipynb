{
 "cells": [
  {
   "cell_type": "markdown",
   "metadata": {},
   "source": [
    "This notebook contains examples related to survival analysis, based on Chapter 13 of<br>\n",
    "Think Stats, 2nd Edition<br>\n",
    "by Allen Downey<br>\n",
    "available from [thinkstats2.com](http://thinkstats2.com)"
   ]
  },
  {
   "cell_type": "code",
   "execution_count": 1,
   "metadata": {
    "collapsed": false,
    "jupyter": {
     "outputs_hidden": false
    }
   },
   "outputs": [
    {
     "ename": "ModuleNotFoundError",
     "evalue": "No module named 'lifelines'",
     "output_type": "error",
     "traceback": [
      "\u001b[0;31m---------------------------------------------------------------------------\u001b[0m",
      "\u001b[0;31mModuleNotFoundError\u001b[0m                       Traceback (most recent call last)",
      "\u001b[0;32m<ipython-input-1-53039073ee78>\u001b[0m in \u001b[0;36m<module>\u001b[0;34m\u001b[0m\n\u001b[1;32m      9\u001b[0m \u001b[0;32mimport\u001b[0m \u001b[0mpandas\u001b[0m\u001b[0;34m\u001b[0m\u001b[0;34m\u001b[0m\u001b[0m\n\u001b[1;32m     10\u001b[0m \u001b[0;32mimport\u001b[0m \u001b[0mnumpy\u001b[0m\u001b[0;34m\u001b[0m\u001b[0;34m\u001b[0m\u001b[0m\n\u001b[0;32m---> 11\u001b[0;31m \u001b[0;32mfrom\u001b[0m \u001b[0mlifelines\u001b[0m \u001b[0;32mimport\u001b[0m \u001b[0mKaplanMeierFitter\u001b[0m\u001b[0;34m\u001b[0m\u001b[0;34m\u001b[0m\u001b[0m\n\u001b[0m\u001b[1;32m     12\u001b[0m \u001b[0;32mfrom\u001b[0m \u001b[0mcollections\u001b[0m \u001b[0;32mimport\u001b[0m \u001b[0mdefaultdict\u001b[0m\u001b[0;34m\u001b[0m\u001b[0;34m\u001b[0m\u001b[0m\n\u001b[1;32m     13\u001b[0m \u001b[0;34m\u001b[0m\u001b[0m\n",
      "\u001b[0;31mModuleNotFoundError\u001b[0m: No module named 'lifelines'"
     ]
    }
   ],
   "source": [
    "from __future__ import print_function, division\n",
    "\n",
    "import nsfg\n",
    "import survival\n",
    "\n",
    "import thinkstats2\n",
    "import thinkplot\n",
    "\n",
    "import pandas\n",
    "import numpy\n",
    "from lifelines import KaplanMeierFitter\n",
    "from collections import defaultdict\n",
    "\n",
    "import matplotlib.pyplot as pyplot\n",
    "\n",
    "%matplotlib inline"
   ]
  },
  {
   "cell_type": "markdown",
   "metadata": {},
   "source": [
    "The first example looks at pregnancy lengths for respondents in the National Survey of Family Growth (NSFG).  This is the easy case, because we can directly compute the CDF of pregnancy length; from that we can get the survival function:"
   ]
  },
  {
   "cell_type": "code",
   "execution_count": null,
   "metadata": {
    "collapsed": false,
    "jupyter": {
     "outputs_hidden": false
    }
   },
   "outputs": [],
   "source": [
    "preg = nsfg.ReadFemPreg()\n",
    "complete = preg.query('outcome in [1, 3, 4]').prglngth"
   ]
  },
  {
   "cell_type": "code",
   "execution_count": null,
   "metadata": {
    "collapsed": false,
    "jupyter": {
     "outputs_hidden": false
    }
   },
   "outputs": [],
   "source": [
    "cdf = thinkstats2.Cdf(complete, label='cdf')\n",
    "sf = survival.SurvivalFunction(cdf, label='survival')\n",
    "thinkplot.Plot(sf)\n",
    "thinkplot.Config(xlabel='duration (weeks)', ylabel='survival function')\n",
    "#thinkplot.Save(root='survival_talk1', formats=['png'])"
   ]
  },
  {
   "cell_type": "markdown",
   "metadata": {},
   "source": [
    "About 17% of pregnancies end in the first trimester, but a large majorty pregnancies that exceed 13 weeks go to full term.\n",
    "\n",
    "Next we can use the survival function to compute the hazard function."
   ]
  },
  {
   "cell_type": "code",
   "execution_count": null,
   "metadata": {
    "collapsed": false,
    "jupyter": {
     "outputs_hidden": false
    }
   },
   "outputs": [],
   "source": [
    "hf = sf.MakeHazard(label='hazard')\n",
    "thinkplot.Plot(hf)\n",
    "thinkplot.Config(xlabel='duration (weeks)', ylabel='hazard function', ylim=[0, 0.75], loc='upper left')\n",
    "#thinkplot.Save(root='survival_talk2', formats=['png'])"
   ]
  },
  {
   "cell_type": "markdown",
   "metadata": {},
   "source": [
    "The hazard function shows the same pattern: the lowest hazard in the second semester, and by far the highest hazard around 30 weeks.\n",
    "\n",
    "We can also use the survival curve to compute mean remaining lifetime as a function of how long the pregnancy has gone."
   ]
  },
  {
   "cell_type": "code",
   "execution_count": null,
   "metadata": {
    "collapsed": false,
    "jupyter": {
     "outputs_hidden": false
    }
   },
   "outputs": [],
   "source": [
    "rem_life = sf.RemainingLifetime()\n",
    "thinkplot.Plot(rem_life)\n",
    "thinkplot.Config(xlabel='weeks', ylabel='mean remaining weeks', legend=False)\n",
    "#thinkplot.Save(root='survival_talk3', formats=['png'])"
   ]
  },
  {
   "cell_type": "markdown",
   "metadata": {},
   "source": [
    "For 38 weeks, the finish line approaches nearly linearly.  But at 39 weeks, the expected remaining time levels off abruptly.  After that, each week that passes brings the finish line no closer.\n",
    "\n",
    "I started with pregnancy lengths because they represent the easy case where the distribution of lifetimes is known.  But often in observational studies we have a combination of complete cases, where the lifetime is known, and ongoing cases where we have a lower bound on the lifetime.\n",
    "\n",
    "As an example, we'll look at the time until first marriage for women in the NSFG."
   ]
  },
  {
   "cell_type": "code",
   "execution_count": null,
   "metadata": {
    "collapsed": false,
    "jupyter": {
     "outputs_hidden": false
    }
   },
   "outputs": [],
   "source": [
    "resp = survival.ReadFemResp2002()\n",
    "len(resp)"
   ]
  },
  {
   "cell_type": "markdown",
   "metadata": {},
   "source": [
    "For complete cases, we know the respondent's age at first marriage.  For ongoing cases, we have the respondent's age when interviewed."
   ]
  },
  {
   "cell_type": "code",
   "execution_count": null,
   "metadata": {
    "collapsed": false,
    "jupyter": {
     "outputs_hidden": false
    }
   },
   "outputs": [],
   "source": [
    "complete = resp[resp.evrmarry == 1].agemarry\n",
    "ongoing = resp[resp.evrmarry == 0].age"
   ]
  },
  {
   "cell_type": "markdown",
   "metadata": {},
   "source": [
    "There are only a few cases with unknown marriage dates."
   ]
  },
  {
   "cell_type": "code",
   "execution_count": null,
   "metadata": {
    "collapsed": false,
    "jupyter": {
     "outputs_hidden": false
    }
   },
   "outputs": [],
   "source": [
    "nan = complete[numpy.isnan(complete)]\n",
    "len(nan)"
   ]
  },
  {
   "cell_type": "markdown",
   "metadata": {},
   "source": [
    "EstimateHazardFunction is an implementation of Kaplan-Meier estimation.\n",
    "\n",
    "With an estimated hazard function, we can compute a survival function."
   ]
  },
  {
   "cell_type": "code",
   "execution_count": null,
   "metadata": {
    "collapsed": false,
    "jupyter": {
     "outputs_hidden": false
    }
   },
   "outputs": [],
   "source": [
    "hf = survival.EstimateHazardFunction(complete, ongoing)\n",
    "sf = hf.MakeSurvival()"
   ]
  },
  {
   "cell_type": "markdown",
   "metadata": {},
   "source": [
    "Here's the hazard function:"
   ]
  },
  {
   "cell_type": "code",
   "execution_count": null,
   "metadata": {
    "collapsed": false,
    "jupyter": {
     "outputs_hidden": false
    }
   },
   "outputs": [],
   "source": [
    "thinkplot.Plot(hf)\n",
    "thinkplot.Config(xlabel='age (years)', ylabel='hazard function', legend=False)\n",
    "#thinkplot.Save(root='survival_talk4', formats=['png'])"
   ]
  },
  {
   "cell_type": "markdown",
   "metadata": {},
   "source": [
    "As expected, the hazard function is highest in the mid-20s.  The function increases again after 35, but that is an artifact of the estimation process and a misleading visualization.  Making a better representation of the hazard function is on my TODO list.\n",
    "\n",
    "Here's the survival function:"
   ]
  },
  {
   "cell_type": "code",
   "execution_count": null,
   "metadata": {
    "collapsed": false,
    "jupyter": {
     "outputs_hidden": false
    }
   },
   "outputs": [],
   "source": [
    "thinkplot.Plot(sf)\n",
    "thinkplot.Config(xlabel='age (years)',\n",
    "               ylabel='prob unmarried',\n",
    "               ylim=[0, 1],\n",
    "               legend=False)\n",
    "#thinkplot.Save(root='survival_talk5', formats=['png'])"
   ]
  },
  {
   "cell_type": "markdown",
   "metadata": {},
   "source": [
    "The survival function naturally smooths out the noisiness in the hazard function.\n",
    "\n",
    "With the survival curve, we can also compute the probability of getting married before age 44, as a function of current age."
   ]
  },
  {
   "cell_type": "code",
   "execution_count": null,
   "metadata": {
    "collapsed": false,
    "jupyter": {
     "outputs_hidden": false
    }
   },
   "outputs": [],
   "source": [
    "ss = sf.ss\n",
    "end_ss = ss[-1]\n",
    "prob_marry44 = (ss - end_ss) / ss\n",
    "thinkplot.Plot(sf.ts, prob_marry44)\n",
    "thinkplot.Config(xlabel='age (years)', ylabel='prob marry before 44', ylim=[0, 1], legend=False)\n",
    "#thinkplot.Save(root='survival_talk6', formats=['png'])"
   ]
  },
  {
   "cell_type": "markdown",
   "metadata": {},
   "source": [
    "After age 20, the probability of getting married drops off nearly linearly.\n",
    "\n",
    "We can also compute the median time until first marriage as a function of age."
   ]
  },
  {
   "cell_type": "code",
   "execution_count": null,
   "metadata": {
    "collapsed": false,
    "jupyter": {
     "outputs_hidden": false
    }
   },
   "outputs": [],
   "source": [
    "func = lambda pmf: pmf.Percentile(50)\n",
    "rem_life = sf.RemainingLifetime(filler=numpy.inf, func=func)\n",
    "thinkplot.Plot(rem_life)\n",
    "thinkplot.Config(ylim=[0, 15],\n",
    "                 xlim=[11, 31],\n",
    "                 xlabel='age (years)',\n",
    "                 ylabel='median remaining years')\n",
    "#thinkplot.Save(root='survival_talk7', formats=['png'])"
   ]
  },
  {
   "cell_type": "markdown",
   "metadata": {},
   "source": [
    "At age 11, young women are a median of 14 years away from their first marriage.  At age 23, the median has fallen to 7 years.  But an never-married woman at 30 is back to a median remaining time of 14 years.\n",
    "\n",
    "I also want to demonstrate `lifelines`, which is a Python module that provides Kaplan-Meier estimation and other tools related to survival analysis.\n",
    "\n",
    "To use lifelines, we have to get the data into a different format.  First I'll add a column to the respondent DataFrame with \"event times\", meaning either age at first marriage OR age at time of interview."
   ]
  },
  {
   "cell_type": "code",
   "execution_count": null,
   "metadata": {
    "collapsed": false,
    "jupyter": {
     "outputs_hidden": false
    }
   },
   "outputs": [],
   "source": [
    "resp['event_times'] = resp.age\n",
    "resp['event_times'][resp.evrmarry == 1] = resp.agemarry\n",
    "len(resp)"
   ]
  },
  {
   "cell_type": "markdown",
   "metadata": {},
   "source": [
    "Lifelines doesn't like NaNs, so let's get rid of them:"
   ]
  },
  {
   "cell_type": "code",
   "execution_count": null,
   "metadata": {
    "collapsed": false,
    "jupyter": {
     "outputs_hidden": false
    }
   },
   "outputs": [],
   "source": [
    "cleaned = resp.dropna(subset=['event_times'])\n",
    "len(cleaned)"
   ]
  },
  {
   "cell_type": "markdown",
   "metadata": {},
   "source": [
    "Now we can use the KaplanMeierFitter, passing the series of event times and a series of booleans indicating which events are complete and which are ongoing:"
   ]
  },
  {
   "cell_type": "code",
   "execution_count": null,
   "metadata": {
    "collapsed": false,
    "jupyter": {
     "outputs_hidden": false
    }
   },
   "outputs": [],
   "source": [
    "kmf = KaplanMeierFitter()\n",
    "kmf.fit(cleaned.event_times, cleaned.evrmarry)"
   ]
  },
  {
   "cell_type": "markdown",
   "metadata": {},
   "source": [
    "Here are the results from my implementation compared with the results from Lifelines."
   ]
  },
  {
   "cell_type": "code",
   "execution_count": null,
   "metadata": {
    "collapsed": false,
    "jupyter": {
     "outputs_hidden": false
    }
   },
   "outputs": [],
   "source": [
    "thinkplot.Plot(sf)\n",
    "thinkplot.Config(xlim=[0, 45], legend=False)\n",
    "pyplot.grid()\n",
    "kmf.survival_function_.plot()"
   ]
  },
  {
   "cell_type": "markdown",
   "metadata": {},
   "source": [
    "They are at least visually similar.  Just to double check, I ran a small example:"
   ]
  },
  {
   "cell_type": "code",
   "execution_count": null,
   "metadata": {
    "collapsed": false,
    "jupyter": {
     "outputs_hidden": false
    }
   },
   "outputs": [],
   "source": [
    "complete = [1, 2, 3]\n",
    "ongoing = [2.5, 3.5]"
   ]
  },
  {
   "cell_type": "markdown",
   "metadata": {},
   "source": [
    "Here's the hazard function:"
   ]
  },
  {
   "cell_type": "code",
   "execution_count": null,
   "metadata": {
    "collapsed": false,
    "jupyter": {
     "outputs_hidden": false
    }
   },
   "outputs": [],
   "source": [
    "hf = survival.EstimateHazardFunction(complete, ongoing)\n",
    "hf.series"
   ]
  },
  {
   "cell_type": "markdown",
   "metadata": {},
   "source": [
    "And the survival function."
   ]
  },
  {
   "cell_type": "code",
   "execution_count": null,
   "metadata": {
    "collapsed": false,
    "jupyter": {
     "outputs_hidden": false
    }
   },
   "outputs": [],
   "source": [
    "sf = hf.MakeSurvival()\n",
    "sf.ts, sf.ss"
   ]
  },
  {
   "cell_type": "markdown",
   "metadata": {},
   "source": [
    "My implementation only evaluate the survival function at times when a completed event occurred.\n",
    "\n",
    "Next I'll reformat the data for lifelines:"
   ]
  },
  {
   "cell_type": "code",
   "execution_count": null,
   "metadata": {
    "collapsed": false,
    "jupyter": {
     "outputs_hidden": false
    }
   },
   "outputs": [],
   "source": [
    "T = pandas.Series(complete + ongoing)\n",
    "E = [1, 1, 1, 0, 0]"
   ]
  },
  {
   "cell_type": "markdown",
   "metadata": {},
   "source": [
    "And run the KaplanMeier Fitter:"
   ]
  },
  {
   "cell_type": "code",
   "execution_count": null,
   "metadata": {
    "collapsed": false,
    "jupyter": {
     "outputs_hidden": false
    }
   },
   "outputs": [],
   "source": [
    "kmf = KaplanMeierFitter()\n",
    "kmf.fit(T, E)\n",
    "kmf.survival_function_"
   ]
  },
  {
   "cell_type": "markdown",
   "metadata": {},
   "source": [
    "The results are the same, except that the Lifelines implementation evaluates the survival function at all event times, complete or not.\n",
    "\n",
    "Next, I'll use additional data from the NSFG to investigate \"marriage curves\" for successive generations of women.\n",
    "\n",
    "Here's data from the last 4 cycles of the NSFG:"
   ]
  },
  {
   "cell_type": "code",
   "execution_count": null,
   "metadata": {
    "collapsed": false,
    "jupyter": {
     "outputs_hidden": false
    }
   },
   "outputs": [],
   "source": [
    "resp5 = survival.ReadFemResp1995()\n",
    "resp6 = survival.ReadFemResp2002()\n",
    "resp7 = survival.ReadFemResp2010()\n",
    "resp8 = survival.ReadFemResp2013()"
   ]
  },
  {
   "cell_type": "markdown",
   "metadata": {},
   "source": [
    "This function takes a respondent DataFrame and estimates survival curves:"
   ]
  },
  {
   "cell_type": "code",
   "execution_count": null,
   "metadata": {
    "collapsed": false,
    "jupyter": {
     "outputs_hidden": false
    }
   },
   "outputs": [],
   "source": [
    "def EstimateSurvival(resp):\n",
    "    \"\"\"Estimates the survival curve.\n",
    "\n",
    "    resp: DataFrame of respondents\n",
    "\n",
    "    returns: pair of HazardFunction, SurvivalFunction\n",
    "    \"\"\"\n",
    "    complete = resp[resp.evrmarry == 1].agemarry\n",
    "    ongoing = resp[resp.evrmarry == 0].age\n",
    "\n",
    "    hf = survival.EstimateHazardFunction(complete, ongoing)\n",
    "    sf = hf.MakeSurvival()\n",
    "\n",
    "    return hf, sf"
   ]
  },
  {
   "cell_type": "markdown",
   "metadata": {},
   "source": [
    "This function takes a list of respondent files, resamples them, groups by decade, optionally generates predictions, and returns a map from group name to a list of survival functions (each based on a different resampling):"
   ]
  },
  {
   "cell_type": "code",
   "execution_count": null,
   "metadata": {
    "collapsed": false,
    "jupyter": {
     "outputs_hidden": false
    }
   },
   "outputs": [],
   "source": [
    "def ResampleSurvivalByDecade(resps, iters=101, predict_flag=False, omit=[]):\n",
    "    \"\"\"Makes survival curves for resampled data.\n",
    "\n",
    "    resps: list of DataFrames\n",
    "    iters: number of resamples to plot\n",
    "    predict_flag: whether to also plot predictions\n",
    "    \n",
    "    returns: map from group name to list of survival functions\n",
    "    \"\"\"\n",
    "    sf_map = defaultdict(list)\n",
    "\n",
    "    # iters is the number of resampling runs to make\n",
    "    for i in range(iters):\n",
    "        \n",
    "        # we have to resample the data from each cycles separately\n",
    "        samples = [thinkstats2.ResampleRowsWeighted(resp) \n",
    "                   for resp in resps]\n",
    "        \n",
    "        # then join the cycles into one big sample\n",
    "        sample = pandas.concat(samples, ignore_index=True)\n",
    "        for decade in omit:\n",
    "            sample = sample[sample.decade != decade]\n",
    "        \n",
    "        # group by decade\n",
    "        grouped = sample.groupby('decade')\n",
    "\n",
    "        # and estimate (hf, sf) for each group\n",
    "        hf_map = grouped.apply(lambda group: EstimateSurvival(group))\n",
    "\n",
    "        if predict_flag:\n",
    "            MakePredictionsByDecade(hf_map)       \n",
    "\n",
    "        # extract the sf from each pair and acculumulate the results\n",
    "        for name, (hf, sf) in hf_map.iteritems():\n",
    "            sf_map[name].append(sf)\n",
    "             \n",
    "            \n",
    "    return sf_map"
   ]
  },
  {
   "cell_type": "markdown",
   "metadata": {},
   "source": [
    "And here's how the predictions work:"
   ]
  },
  {
   "cell_type": "code",
   "execution_count": null,
   "metadata": {
    "collapsed": false,
    "jupyter": {
     "outputs_hidden": false
    }
   },
   "outputs": [],
   "source": [
    "def MakePredictionsByDecade(hf_map, **options):\n",
    "    \"\"\"Extends a set of hazard functions and recomputes survival functions.\n",
    "\n",
    "    For each group in hf_map, we extend hf and recompute sf.\n",
    "\n",
    "    hf_map: map from group name to (HazardFunction, SurvivalFunction)\n",
    "    \"\"\"\n",
    "    # TODO: this only works if the names and values are in increasing order,\n",
    "    # which is true when hf_map is a GroupBy object, but not generally\n",
    "    # true for maps.\n",
    "    names = hf_map.index.values\n",
    "    hfs = [hf for (hf, sf) in hf_map.values]\n",
    "    \n",
    "    # extend each hazard function using data from the previous cohort,\n",
    "    # and update the survival function\n",
    "    for i, hf in enumerate(hfs):\n",
    "        if i > 0:\n",
    "            hf.Extend(hfs[i-1])\n",
    "        sf = hf.MakeSurvival()\n",
    "        hf_map[names[i]] = hf, sf"
   ]
  },
  {
   "cell_type": "markdown",
   "metadata": {},
   "source": [
    "This function takes a list of survival functions and returns a confidence interval: "
   ]
  },
  {
   "cell_type": "code",
   "execution_count": null,
   "metadata": {
    "collapsed": false,
    "jupyter": {
     "outputs_hidden": false
    }
   },
   "outputs": [],
   "source": [
    "def MakeSurvivalCI(sf_seq, percents):\n",
    "    \n",
    "    # find the union of all ts where the sfs are evaluated\n",
    "    ts = set()\n",
    "    for sf in sf_seq:\n",
    "        ts |= set(sf.ts)\n",
    "    \n",
    "    ts = list(ts)\n",
    "    ts.sort()\n",
    "    \n",
    "    # evaluate each sf at all times\n",
    "    ss_seq = [sf.Probs(ts) for sf in sf_seq]\n",
    "    \n",
    "    # return the requested percentiles from each column\n",
    "    rows = thinkstats2.PercentileRows(ss_seq, percents)\n",
    "    return ts, rows\n"
   ]
  },
  {
   "cell_type": "markdown",
   "metadata": {},
   "source": [
    "Make survival curves without predictions:"
   ]
  },
  {
   "cell_type": "code",
   "execution_count": null,
   "metadata": {
    "collapsed": false,
    "jupyter": {
     "outputs_hidden": false
    }
   },
   "outputs": [],
   "source": [
    "resps = [resp5, resp6, resp7, resp8]\n",
    "sf_map = ResampleSurvivalByDecade(resps)"
   ]
  },
  {
   "cell_type": "markdown",
   "metadata": {},
   "source": [
    "Make survival curves with predictions:"
   ]
  },
  {
   "cell_type": "code",
   "execution_count": null,
   "metadata": {
    "collapsed": false,
    "jupyter": {
     "outputs_hidden": false
    }
   },
   "outputs": [],
   "source": [
    "resps = [resp5, resp6, resp7, resp8]\n",
    "sf_map_pred = ResampleSurvivalByDecade(resps, predict_flag=True)"
   ]
  },
  {
   "cell_type": "markdown",
   "metadata": {},
   "source": [
    "This function plots survival curves:"
   ]
  },
  {
   "cell_type": "code",
   "execution_count": null,
   "metadata": {
    "collapsed": false,
    "jupyter": {
     "outputs_hidden": false
    }
   },
   "outputs": [],
   "source": [
    "def PlotSurvivalFunctionByDecade(sf_map, predict_flag=False):\n",
    "    thinkplot.PrePlot(len(sf_map))\n",
    "\n",
    "    for name, sf_seq in sorted(sf_map.iteritems(), reverse=True):\n",
    "        ts, rows = MakeSurvivalCI(sf_seq, [10, 50, 90])\n",
    "        thinkplot.FillBetween(ts, rows[0], rows[2], color='gray')\n",
    "        if predict_flag:\n",
    "            thinkplot.Plot(ts, rows[1], color='gray')\n",
    "        else:\n",
    "            thinkplot.Plot(ts, rows[1], label='%d0s'%name)\n",
    "\n",
    "    thinkplot.Config(xlabel='age(years)', ylabel='prob unmarried',\n",
    "                     xlim=[15, 45], ylim=[0, 1], legend=True, loc='upper right')"
   ]
  },
  {
   "cell_type": "markdown",
   "metadata": {},
   "source": [
    "Now we can plot results without predictions:"
   ]
  },
  {
   "cell_type": "code",
   "execution_count": null,
   "metadata": {
    "collapsed": false,
    "jupyter": {
     "outputs_hidden": false
    }
   },
   "outputs": [],
   "source": [
    "PlotSurvivalFunctionByDecade(sf_map)\n",
    "#thinkplot.Save(root='survival_talk8', formats=['png'])"
   ]
  },
  {
   "cell_type": "markdown",
   "metadata": {},
   "source": [
    "And plot again with predictions:"
   ]
  },
  {
   "cell_type": "code",
   "execution_count": null,
   "metadata": {
    "collapsed": false,
    "jupyter": {
     "outputs_hidden": false
    }
   },
   "outputs": [],
   "source": [
    "PlotSurvivalFunctionByDecade(sf_map_pred, predict_flag=True)\n",
    "PlotSurvivalFunctionByDecade(sf_map)\n",
    "#thinkplot.Save(root='survival_talk9', formats=['png'])"
   ]
  },
  {
   "cell_type": "markdown",
   "metadata": {},
   "source": [
    "The gray regions show the confidence intervals for the estimates and predictions.\n",
    "\n",
    "Although the last two cohorts are lagging their predecessors, if we assume that their hazard function from here out will be similar to previous cohorts, they are on track to reach marriage rates at age 45 that are similar to previous cohorts.\n",
    "\n",
    "Also, at the risk of overinterpreting noise, it looks like the 90s cohort might have delayed marriage in the last few years and then made up for lost time, possibly as a reaction to an improving economy.  To investigate that conjecture, it would be useful to cut a different cross section of this data, with time on the x-axis, rather than age."
   ]
  },
  {
   "cell_type": "code",
   "execution_count": null,
   "metadata": {
    "collapsed": false,
    "jupyter": {
     "outputs_hidden": false
    }
   },
   "outputs": [],
   "source": []
  }
 ],
 "metadata": {
  "kernelspec": {
   "display_name": "Python 3",
   "language": "python",
   "name": "python3"
  },
  "language_info": {
   "codemirror_mode": {
    "name": "ipython",
    "version": 3
   },
   "file_extension": ".py",
   "mimetype": "text/x-python",
   "name": "python",
   "nbconvert_exporter": "python",
   "pygments_lexer": "ipython3",
   "version": "3.7.7"
  }
 },
 "nbformat": 4,
 "nbformat_minor": 4
}
