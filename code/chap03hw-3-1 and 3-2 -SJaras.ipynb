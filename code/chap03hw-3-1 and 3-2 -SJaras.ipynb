{
 "cells": [
  {
   "cell_type": "markdown",
   "metadata": {},
   "source": [
    "## Title: Exercises from Chapter 3\n",
    "### Sanjay Jaras"
   ]
  },
  {
   "cell_type": "markdown",
   "metadata": {},
   "source": [
    "### Import Libraries"
   ]
  },
  {
   "cell_type": "code",
   "execution_count": 8,
   "metadata": {},
   "outputs": [],
   "source": [
    "import numpy as np\n",
    "\n",
    "import nsfg\n",
    "import first\n",
    "import thinkstats2\n",
    "import thinkplot"
   ]
  },
  {
   "cell_type": "markdown",
   "metadata": {},
   "source": [
    "### Read Dataset"
   ]
  },
  {
   "cell_type": "code",
   "execution_count": 9,
   "metadata": {},
   "outputs": [],
   "source": [
    "resp = nsfg.ReadFemResp()"
   ]
  },
  {
   "cell_type": "markdown",
   "metadata": {},
   "source": [
    "### Exercise 3.1 \n",
    "Something like the class size paradox appears if you survey\n",
    "children and ask how many children are in their family. Families with many\n",
    "children are more likely to appear in your sample, and families with no chil-\n",
    "dren have no chance to be in the sample.\n",
    "Use the NSFG respondent variable NUMKDHH to construct the actual distribu-\n",
    "tion for the number of children under 18 in the household.\n",
    "Now compute the biased distribution we would see if we surveyed the children\n",
    "and asked them how many children under 18 (including themselves) are in\n",
    "their household.\n",
    "Plot the actual and biased distributions, and compute their means. As a\n",
    "starting place, you can use chap03ex.ipynb."
   ]
  },
  {
   "cell_type": "markdown",
   "metadata": {},
   "source": [
    "### Define Functions"
   ]
  },
  {
   "cell_type": "code",
   "execution_count": 10,
   "metadata": {},
   "outputs": [],
   "source": [
    "def biasPmf(pmf, label):\n",
    "    \"\"\" Computes the biased pmf\n",
    "        Returns:\n",
    "            biased pmf\n",
    "    \"\"\"\n",
    "    #Copy the pmf so that it will not change\n",
    "    new_pmf = pmf.Copy(label=label)\n",
    "    # To show bias multiply number of kids with each observation\n",
    "    for x, p in pmf.Items():\n",
    "        new_pmf.Mult(x, x)\n",
    "    # normalize the PMF after multiplication to make pmf to add up to 1    \n",
    "    new_pmf.Normalize()\n",
    "    # return biased PMF\n",
    "    return new_pmf\n",
    "\n",
    "\n",
    "    "
   ]
  },
  {
   "cell_type": "markdown",
   "metadata": {},
   "source": [
    "### Compute and plot actual and observed pmfs"
   ]
  },
  {
   "cell_type": "code",
   "execution_count": 11,
   "metadata": {},
   "outputs": [
    {
     "data": {
      "image/png": "[encoded data removed]",
      "text/plain": [
       "<Figure size 432x288 with 1 Axes>"
      ]
     },
     "metadata": {
      "needs_background": "light"
     },
     "output_type": "display_data"
    }
   ],
   "source": [
    "# Calculate actual pmf\n",
    "pmf = thinkstats2.Pmf(resp[\"numkdhh\"], label='actual')\n",
    "# calculate biased pmf\n",
    "biased_pmf = biasPmf(pmf, label='observed')\n",
    "# plot\n",
    "thinkplot.PrePlot(2)\n",
    "# plot actual and biased plot\n",
    "thinkplot.Pmfs([pmf, biased_pmf])\n",
    "thinkplot.Config(xlabel='Number of Kids', ylabel='PMF')"
   ]
  },
  {
   "cell_type": "markdown",
   "metadata": {},
   "source": [
    "### Calculate mean for observed and actual pmf"
   ]
  },
  {
   "cell_type": "code",
   "execution_count": 12,
   "metadata": {},
   "outputs": [
    {
     "name": "stdout",
     "output_type": "stream",
     "text": [
      "Actual mean 1.024205155043831\n",
      "Observed mean 2.403679100664282\n"
     ]
    }
   ],
   "source": [
    "print('Actual mean', pmf.Mean())\n",
    "print('Observed mean', biased_pmf.Mean())"
   ]
  },
  {
   "cell_type": "markdown",
   "metadata": {},
   "source": [
    "### Exercise 3.2 \n",
    "In Section 2.7 we computed the mean of a sample by adding\n",
    "up the elements and dividing by n. If you are given a PMF, you can still\n",
    "compute the mean, but the process is slightly different:\n",
    "\n",
    "Xmean = Summation of Pi * Xi for each i\n",
    "\n",
    "where the x i are the unique values in the PMF and p i = P M F (x i ). Similarly,\n",
    "you can compute variance like this:\n",
    "\n",
    "Variance = Summation of Pi * ((Xi - Xmean) * (Xi - Xmean)) \n"
   ]
  },
  {
   "cell_type": "markdown",
   "metadata": {},
   "source": [
    "### Define functions"
   ]
  },
  {
   "cell_type": "code",
   "execution_count": 13,
   "metadata": {},
   "outputs": [],
   "source": [
    "def pmfMean(pmf):\n",
    "    \"\"\"Computes the mean of a PMF.\n",
    "\n",
    "    Returns:\n",
    "        float mean\n",
    "    \"\"\"\n",
    "    # initialize mean variable\n",
    "    mean = 0.0\n",
    "    # calculate mean by adding all means from each distribution item in pmf\n",
    "    for x, p in pmf.d.items():\n",
    "        mean += p * x\n",
    "    return mean\n",
    "\n",
    "def pmfVariance(pmf, meanPmf=None):\n",
    "    \"\"\" Computes variance for pmf\n",
    "        Returns:\n",
    "        float variance\n",
    "    \"\"\"\n",
    "    # if mean is not passed calculate from pmf\n",
    "    if meanPmf is None:\n",
    "        meanPmf = pmf.Mean()\n",
    "        \n",
    "    # intialize variance variable    \n",
    "    variance = 0\n",
    "    # compute variance by each item\n",
    "    for x, p in pmf.d.items():\n",
    "        variance += p * (x - meanPmf) ** 2\n",
    "    # return variance    \n",
    "    return variance"
   ]
  },
  {
   "cell_type": "code",
   "execution_count": 14,
   "metadata": {},
   "outputs": [
    {
     "name": "stdout",
     "output_type": "stream",
     "text": [
      "Mean 1.024205155043831\n",
      "Variance 1.4128643263531195\n"
     ]
    }
   ],
   "source": [
    "print('Mean', pmfMean(pmf))\n",
    "print('Variance', pmfVariance(pmf))"
   ]
  }
 ],
 "metadata": {
  "kernelspec": {
   "display_name": "Python 3",
   "language": "python",
   "name": "python3"
  },
  "language_info": {
   "codemirror_mode": {
    "name": "ipython",
    "version": 3
   },
   "file_extension": ".py",
   "mimetype": "text/x-python",
   "name": "python",
   "nbconvert_exporter": "python",
   "pygments_lexer": "ipython3",
   "version": "3.7.7"
  }
 },
 "nbformat": 4,
 "nbformat_minor": 4
}
