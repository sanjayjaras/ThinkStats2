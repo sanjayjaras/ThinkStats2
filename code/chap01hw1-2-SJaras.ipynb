{
 "cells": [
  {
   "cell_type": "markdown",
   "metadata": {},
   "source": [
    "## Title: Exercise 1.2 Read Fixed width file using dictionary\n",
    "## Sanjay Jaras"
   ]
  },
  {
   "cell_type": "markdown",
   "metadata": {},
   "source": [
    "### Import Libraries"
   ]
  },
  {
   "cell_type": "code",
   "execution_count": 2,
   "metadata": {},
   "outputs": [],
   "source": [
    "import pandas\n",
    "import numpy as np"
   ]
  },
  {
   "cell_type": "markdown",
   "metadata": {},
   "source": [
    "### Define function to read dictionary file and return as pandas data frame"
   ]
  },
  {
   "cell_type": "code",
   "execution_count": 3,
   "metadata": {},
   "outputs": [],
   "source": [
    "def readDictionaryFile(fileName):\n",
    "    \"\"\"Reads a Stata dictionary file.\n",
    "\n",
    "    fileName: string filename\n",
    "    \n",
    "    returns: Pandas Dataframe with Variable information with column names start, type, name, fstring, desc\n",
    "    \"\"\"\n",
    "    # String types to python type mapping\n",
    "    type_map = dict(byte=int,\n",
    "                    int=int,\n",
    "                    long=int,\n",
    "                    float=float,\n",
    "                    double=float,\n",
    "                    numeric=float)\n",
    "    # list holding variable information\n",
    "    var_info = []\n",
    "    # open file\n",
    "    with open(fileName) as f:\n",
    "        # iterate all lines inside file\n",
    "        for line in f:\n",
    "            # if line not mathcing the column pattern ignore\n",
    "            if not \"_column\" in line:\n",
    "                continue\n",
    "\n",
    "            #split line with spaces\n",
    "            splits = line.split()\n",
    "            # get the integer starting offset\n",
    "            start = int(splits[0].replace(\"_column(\", \"\").replace(\")\", \"\"))\n",
    "            # get varaible type, name of column and format string for column\n",
    "            vtype, name, fstring = splits[1:4]\n",
    "            # if variable type is like str12 or str23 get only str as type\n",
    "            if vtype.startswith('str'):\n",
    "                vtype = str\n",
    "            else:\n",
    "                vtype = type_map[vtype]\n",
    "\n",
    "            # form the column description\n",
    "            desc = ' '.join(splits[4:]).strip('\"')\n",
    "            # append the column info to list\n",
    "            var_info.append((start, vtype, name, fstring, desc))\n",
    "    # List of column names\n",
    "    columns = ['start', 'type', 'name', 'fstring', 'desc']\n",
    "    # create pandas dataframe with colunm names and column information.\n",
    "    variablesDf = pandas.DataFrame(var_info, columns=columns)\n",
    "    # fill in the end column by shifting the start column\n",
    "    variablesDf['end'] = variablesDf.start.shift(-1)\n",
    "    # add 0 as a end for last variable end\n",
    "    variablesDf.loc[len(variablesDf) - 1, 'end'] = 0\n",
    "\n",
    "    # return dataframe with Variable information\n",
    "    return variablesDf"
   ]
  },
  {
   "cell_type": "markdown",
   "metadata": {},
   "source": [
    "### Read Fixed width file using dictionary data into pandas dataframe"
   ]
  },
  {
   "cell_type": "code",
   "execution_count": 4,
   "metadata": {},
   "outputs": [
    {
     "name": "stdout",
     "output_type": "stream",
     "text": [
      "Number of records read: 7643\n"
     ]
    }
   ],
   "source": [
    "variableInfoDf = readDictionaryFile('2002FemResp.dct')\n",
    "# change column'start and end to 0 based index by subtracting 1\n",
    "colspecs = variableInfoDf[['start', 'end']] - 1\n",
    "# convert start and end pair to list\n",
    "colspecs = colspecs.astype(np.int).values.tolist()\n",
    "# read fixed width by using column info we read from dictionary file\n",
    "df = pandas.read_fwf(\"2002FemResp.dat.gz\",\n",
    "                     colspecs=colspecs,\n",
    "                     names=variableInfoDf.name)\n",
    "# print number of records read from file\n",
    "print(\"Number of records read:\", len(df))"
   ]
  },
  {
   "cell_type": "markdown",
   "metadata": {},
   "source": [
    "### Show the pregnancy number counts in sorted order."
   ]
  },
  {
   "cell_type": "code",
   "execution_count": 5,
   "metadata": {},
   "outputs": [
    {
     "data": {
      "text/plain": [
       "0     2610\n",
       "1     1267\n",
       "2     1432\n",
       "3     1110\n",
       "4      611\n",
       "5      305\n",
       "6      150\n",
       "7       80\n",
       "8       40\n",
       "9       21\n",
       "10       9\n",
       "11       3\n",
       "12       2\n",
       "14       2\n",
       "19       1\n",
       "Name: pregnum, dtype: int64"
      ]
     },
     "execution_count": 5,
     "metadata": {},
     "output_type": "execute_result"
    }
   ],
   "source": [
    "df.pregnum.value_counts().sort_index()"
   ]
  }
 ],
 "metadata": {
  "kernelspec": {
   "display_name": "Python 3",
   "language": "python",
   "name": "python3"
  },
  "language_info": {
   "codemirror_mode": {
    "name": "ipython",
    "version": 3
   },
   "file_extension": ".py",
   "mimetype": "text/x-python",
   "name": "python",
   "nbconvert_exporter": "python",
   "pygments_lexer": "ipython3",
   "version": "3.7.7"
  }
 },
 "nbformat": 4,
 "nbformat_minor": 4
}
