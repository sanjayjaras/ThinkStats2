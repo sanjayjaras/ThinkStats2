{
 "cells": [
  {
   "cell_type": "markdown",
   "metadata": {},
   "source": [
    "## Exercise 2.1 Based on the results in this chapter, suppose you were asked to summarize what you learned about whether first babies arrive late.\n",
    "### Sanjay Jaras"
   ]
  },
  {
   "cell_type": "markdown",
   "metadata": {},
   "source": [
    "### <p style=\"color:blue\"> Ans:</p> \n",
    "<p style=\"color:blue\"> If we refer to the mean of the pregnancy length for first child and other child<br/>\n",
    "Mean pregnancy length for first child: <b>38.601 weeks</b> <br/>\n",
    "Mean pregnancy length for other child: <b>38.523 weeks</b> <br/>\n",
    "    The difference is <b>0.078 weeks i.e. 13 hours</b> that is very minimal, so we cannot say first babies arrive late. <br/>\n",
    "Other stats is Cohen’s d. Value for 0.029. This value is also very small.</p>"
   ]
  },
  {
   "cell_type": "markdown",
   "metadata": {},
   "source": [
    "### Exercise 2.4 Using the variable totalwgt_lb, investigate whether first babies are lighter or heavier than others. Compute Cohen’s d to quantify the difference between the groups. How does it compare to the difference in pregnancy length?"
   ]
  },
  {
   "cell_type": "markdown",
   "metadata": {},
   "source": [
    "### Import Library and read dataset into dataframe"
   ]
  },
  {
   "cell_type": "code",
   "execution_count": 32,
   "metadata": {},
   "outputs": [],
   "source": [
    "import nsfg\n",
    "import math\n",
    "preg = nsfg.ReadFemPreg()"
   ]
  },
  {
   "cell_type": "markdown",
   "metadata": {},
   "source": [
    "## Filter the dataset for only live babies and create separate sets for first babies and other babies"
   ]
  },
  {
   "cell_type": "code",
   "execution_count": 33,
   "metadata": {},
   "outputs": [],
   "source": [
    "liveChild = preg[preg.outcome == 1]\n",
    "firstChild = liveChild[liveChild.birthord == 1]\n",
    "otherChilds = liveChild[liveChild.birthord != 1]"
   ]
  },
  {
   "cell_type": "markdown",
   "metadata": {},
   "source": [
    "### Calculate means and find difference between means"
   ]
  },
  {
   "cell_type": "code",
   "execution_count": 34,
   "metadata": {},
   "outputs": [
    {
     "name": "stdout",
     "output_type": "stream",
     "text": [
      "Mean weight for First Child: 7.201094430437772\n",
      "Mean weight for Other Childs: 7.325855614973262\n",
      "Difference in mean weights: 0.12476118453549034 lbs i.e.  56.59067521582213 gms\n"
     ]
    }
   ],
   "source": [
    "meanFirstChild = firstChild.totalwgt_lb.mean()\n",
    "meanOtherChild = otherChilds.totalwgt_lb.mean()\n",
    "diff = meanOtherChild - meanFirstChild\n",
    "print(\"Mean weight for First Child:\", meanFirstChild)\n",
    "print(\"Mean weight for Other Childs:\", meanOtherChild)\n",
    "print(\"Difference in mean weights:\", diff, \"lbs\", \"i.e. \", diff * 453.592 , \"gms\")"
   ]
  },
  {
   "cell_type": "markdown",
   "metadata": {},
   "source": [
    "### Define function to calculate Cohen Defect size"
   ]
  },
  {
   "cell_type": "code",
   "execution_count": 35,
   "metadata": {},
   "outputs": [],
   "source": [
    "def CohenEffectSize(group1, group2):\n",
    "    diff = group1.mean() - group2.mean()\n",
    "    var1 = group1.var()\n",
    "    var2 = group2.var()\n",
    "    n1, n2 = len(group1), len(group2)\n",
    "    pooled_var = (n1 * var1 + n2 * var2) / (n1 + n2)\n",
    "    d = diff / math.sqrt(pooled_var)\n",
    "    return d"
   ]
  },
  {
   "cell_type": "code",
   "execution_count": 36,
   "metadata": {},
   "outputs": [
    {
     "name": "stdout",
     "output_type": "stream",
     "text": [
      "Cohen d: 0.08867292707260174\n"
     ]
    }
   ],
   "source": [
    "cohend = CohenEffectSize(otherChilds.totalwgt_lb, firstChild.totalwgt_lb)\n",
    "print(\"Cohen d:\", cohend)"
   ]
  },
  {
   "cell_type": "markdown",
   "metadata": {},
   "source": [
    "<p style=\"color:blue\">To conclude we can sat that the difference between mean weights of fist baby and other baby is just about 60gms. <br/> So we can it is minimal. Also Cohen effect size is 0.088, this value is also small.</p"
   ]
  }
 ],
 "metadata": {
  "kernelspec": {
   "display_name": "Python 3",
   "language": "python",
   "name": "python3"
  },
  "language_info": {
   "codemirror_mode": {
    "name": "ipython",
    "version": 3
   },
   "file_extension": ".py",
   "mimetype": "text/x-python",
   "name": "python",
   "nbconvert_exporter": "python",
   "pygments_lexer": "ipython3",
   "version": "3.7.7"
  }
 },
 "nbformat": 4,
 "nbformat_minor": 4
}
