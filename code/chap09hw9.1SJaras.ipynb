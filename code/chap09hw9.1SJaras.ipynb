{
 "cells": [
  {
   "cell_type": "markdown",
   "metadata": {},
   "source": [
    "<h1>Week 8 Homework </h1>\n",
    "<h3>Exercise 9.1</h3>\n",
    "As sample size increases, the power of a hypothesis test increases, which means it is more likely to be positive if the effect is real.\n",
    "Conversely, as sample size decreases, the test is less likely to be positive even if the effect is real.\n",
    "<br/>To investigate this behavior, run the tests in this chapter with different sub-sets of the NSFG data. You can use thinkstats2.SampleRows to select a random subset of the rows in a DataFrame.\n",
    "<br/>What happens to the p-values of these tests as sample size decreases? What is the smallest sample size that yields a positive test?\n"
   ]
  },
  {
   "cell_type": "code",
   "execution_count": 1,
   "metadata": {},
   "outputs": [],
   "source": [
    "import nsfg\n",
    "import random\n",
    "import numpy as np\n",
    "import thinkstats2\n",
    "\n",
    "random.seed(18)\n",
    "np.random.seed(18)"
   ]
  },
  {
   "cell_type": "code",
   "execution_count": 2,
   "metadata": {},
   "outputs": [],
   "source": [
    "class DiffMeansPermute(thinkstats2.HypothesisTest):\n",
    "    \"\"\"Tests a difference in means by permutation.\n",
    "        class is extended from HypothesisTest that alreay calculating \n",
    "        actual hypthosis value in constructor that value is used in \n",
    "        PValue function to test if null hypthosis is true or not\n",
    "    \"\"\"\n",
    "\n",
    "    def TestStatistic(self, data):\n",
    "        \"\"\"Computes the test statistic.\n",
    "\n",
    "        data: data in whatever form is relevant        \n",
    "        \"\"\"\n",
    "        group1, group2 = data\n",
    "        test_stat = abs(group1.mean() - group2.mean())\n",
    "        return test_stat\n",
    "\n",
    "    def MakeModel(self):\n",
    "        \"\"\"Build a model of the null hypothesis.\n",
    "        \"\"\"\n",
    "        group1, group2 = self.data\n",
    "        self.n, self.m = len(group1), len(group2)\n",
    "        self.pool = np.hstack((group1, group2))\n",
    "\n",
    "    def RunModel(self):\n",
    "        \"\"\"Run the model of the null hypothesis.\n",
    "\n",
    "        returns: simulated data\n",
    "        \"\"\"\n",
    "        np.random.shuffle(self.pool)\n",
    "        data = self.pool[:self.n], self.pool[self.n:]\n",
    "        return data"
   ]
  },
  {
   "cell_type": "code",
   "execution_count": 3,
   "metadata": {},
   "outputs": [],
   "source": [
    "class CorrelationPermute(thinkstats2.HypothesisTest):\n",
    "    \"\"\"Tests correlations by permutation.\"\"\"\n",
    "\n",
    "    def TestStatistic(self, data):\n",
    "        \"\"\"Computes the test statistic.\n",
    "\n",
    "        data: tuple of xs and ys\n",
    "        \"\"\"\n",
    "        xs, ys = data\n",
    "        test_stat = abs(thinkstats2.Corr(xs, ys))\n",
    "        return test_stat\n",
    "\n",
    "    def RunModel(self):\n",
    "        \"\"\"Run the model of the null hypothesis.\n",
    "\n",
    "        returns: simulated data\n",
    "        \"\"\"\n",
    "        xs, ys = self.data\n",
    "        xs = np.random.permutation(xs)\n",
    "        return xs, ys"
   ]
  },
  {
   "cell_type": "code",
   "execution_count": 4,
   "metadata": {},
   "outputs": [],
   "source": [
    "class PregLengthTest(thinkstats2.HypothesisTest):\n",
    "    \"\"\"Tests difference in pregnancy length using a chi-squared statistic.\"\"\"\n",
    "\n",
    "    def TestStatistic(self, data):\n",
    "        \"\"\"Computes the test statistic.\n",
    "\n",
    "        data: pair of lists of pregnancy lengths\n",
    "        \"\"\"\n",
    "        firsts, others = data\n",
    "        stat = self.ChiSquared(firsts) + self.ChiSquared(others)\n",
    "        return stat\n",
    "\n",
    "    def ChiSquared(self, lengths):\n",
    "        \"\"\"Computes the chi-squared statistic.\n",
    "        \n",
    "        lengths: sequence of lengths\n",
    "\n",
    "        returns: float\n",
    "        \"\"\"\n",
    "        hist = thinkstats2.Hist(lengths)\n",
    "        observed = np.array(hist.Freqs(self.values))\n",
    "        expected = self.expected_probs * len(lengths)\n",
    "        stat = sum((observed - expected)**2 / expected)\n",
    "        return stat\n",
    "\n",
    "    def MakeModel(self):\n",
    "        \"\"\"Build a model of the null hypothesis.\n",
    "        \"\"\"\n",
    "        firsts, others = self.data\n",
    "        self.n = len(firsts)\n",
    "        self.pool = np.hstack((firsts, others))\n",
    "\n",
    "        pmf = thinkstats2.Pmf(self.pool)\n",
    "        self.values = range(35, 44)\n",
    "        self.expected_probs = np.array(pmf.Probs(self.values))\n",
    "\n",
    "    def RunModel(self):\n",
    "        \"\"\"Run the model of the null hypothesis.\n",
    "\n",
    "        returns: simulated data\n",
    "        \"\"\"\n",
    "        np.random.shuffle(self.pool)\n",
    "        data = self.pool[:self.n], self.pool[self.n:]\n",
    "        return data"
   ]
  },
  {
   "cell_type": "code",
   "execution_count": 5,
   "metadata": {},
   "outputs": [],
   "source": [
    "def RunTests(live, iters=1000):\n",
    "    \"\"\"Runs the tests from Chapter 9 with a subset of the data.\n",
    "\n",
    "    live: DataFrame\n",
    "    iters: how many iterations to run\n",
    "    \"\"\"\n",
    "\n",
    "    firsts = live[live.birthord == 1]\n",
    "    others = live[live.birthord != 1]\n",
    "\n",
    "    n = len(live)\n",
    "\n",
    "    # compare pregnacy length for first child and other childs\n",
    "    data = firsts.prglngth.values, others.prglngth.values\n",
    "    ht = DiffMeansPermute(data)\n",
    "    p1 = ht.PValue(iters=iters)\n",
    "\n",
    "    # compare weight of first child and other childs\n",
    "    data = (firsts.totalwgt_lb.dropna().values, others.totalwgt_lb.dropna().values)\n",
    "    ht = DiffMeansPermute(data)\n",
    "    p2 = ht.PValue(iters=iters)\n",
    "\n",
    "    # test correlation between pregnancy length and child weight\n",
    "    live2 = live.dropna(subset=['agepreg', 'totalwgt_lb'])\n",
    "    data = live2.agepreg.values, live2.totalwgt_lb.values\n",
    "    ht = CorrelationPermute(data)\n",
    "    p3 = ht.PValue(iters=iters) \n",
    "\n",
    "    # compare pregnancy lengths by using chi-squared\n",
    "    data = firsts.prglngth.values, others.prglngth.values\n",
    "    ht = PregLengthTest(data)\n",
    "    p4 = ht.PValue(iters=iters)\n",
    "\n",
    "    print('%d\\t\\t%0.2f\\t\\t%0.2f\\t\\t%0.2f\\t\\t%0.2f' % (n, p1, p2, p3, p4))"
   ]
  },
  {
   "cell_type": "code",
   "execution_count": 6,
   "metadata": {},
   "outputs": [
    {
     "output_type": "stream",
     "name": "stdout",
     "text": "Sample Size\tPVal Preg lnth\tPVal Wght\tPVal corr\tPVal Chi\n9148\t\t0.16\t\t0.00\t\t0.00\t\t0.00\n4574\t\t0.10\t\t0.01\t\t0.00\t\t0.00\n2287\t\t0.25\t\t0.06\t\t0.00\t\t0.00\n1143\t\t0.24\t\t0.03\t\t0.39\t\t0.03\n571\t\t0.81\t\t0.00\t\t0.04\t\t0.04\n285\t\t0.57\t\t0.41\t\t0.48\t\t0.83\n142\t\t0.45\t\t0.08\t\t0.60\t\t0.04\n71\t\t1.00\t\t0.81\t\t0.38\t\t0.69\n35\t\t0.41\t\t0.14\t\t0.11\t\t0.00\n17\t\t0.13\t\t0.23\t\t0.93\t\t0.00\n"
    }
   ],
   "source": [
    "\n",
    "preg = nsfg.ReadFemPreg()\n",
    "live = preg[preg.outcome == 1]\n",
    "\n",
    "iters = len(live)\n",
    "print('%s\\t%s\\t%s\\t%s\\t%s' % (\"Sample Size\", \"PVal Preg lnth\", \"PVal Wght\", \"PVal corr\", \"PVal Chi\"))\n",
    "for _ in range(10):\n",
    "    samples = thinkstats2.SampleRows(live, iters)\n",
    "    RunTests(samples)\n",
    "    iters //= 2"
   ]
  },
  {
   "cell_type": "markdown",
   "metadata": {
    "pycharm": {
     "name": "#%% md\n"
    }
   },
   "source": [
    "<h3>Conclusion: </h3>\n",
    "As expected, tests that are positive with large sample\n",
    "sizes become negative as we keep on reducing sample size.  However the pattern is\n",
    "not consistent, with some positive tests even at small sample sizes."
   ]
  }
 ],
 "metadata": {
  "language_info": {
   "codemirror_mode": {
    "name": "ipython",
    "version": 3
   },
   "file_extension": ".py",
   "mimetype": "text/x-python",
   "name": "python",
   "nbconvert_exporter": "python",
   "pygments_lexer": "ipython3",
   "version": "3.7.7-final"
  },
  "orig_nbformat": 2,
  "kernelspec": {
   "name": "python3",
   "display_name": "Python 3"
  }
 },
 "nbformat": 4,
 "nbformat_minor": 2
}